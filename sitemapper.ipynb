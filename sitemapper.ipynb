{
 "cells": [
  {
   "cell_type": "code",
   "execution_count": null,
   "metadata": {},
   "outputs": [],
   "source": [
    "import os\n",
    "import openai\n",
    "import requests\n",
    "from bs4 import BeautifulSoup"
   ]
  },
  {
   "cell_type": "code",
   "execution_count": null,
   "metadata": {},
   "outputs": [],
   "source": [
    "api_key = os.environ.get(\"OPENAI_API_KEY\")"
   ]
  },
  {
   "cell_type": "code",
   "execution_count": null,
   "metadata": {},
   "outputs": [],
   "source": [
    "def fetch_site_content(site_url):\n",
    "    HEADERS = {\n",
    "    \"User-Agent\": \"Mozilla/5.0 (Windows NT 10.0; Win64; x64) AppleWebKit/537.36 (KHTML, like Gecko) Chrome/89.0.4389.82 Safari/537.36\"\n",
    "    }\n",
    "    response = requests.get(site_url, headers=HEADERS)\n",
    "    page_soup = BeautifulSoup(response.content, 'html.parser')\n",
    "    return page_soup\n",
    "\n",
    "def create_openai_file(content):\n",
    "    file = openai.File.create(\n",
    "        file=content,\n",
    "        purpose=\"assistants\"\n",
    "    )\n",
    "    return file.id\n",
    "\n",
    "def full_website_assistant(urls):\n",
    "    # Create a list to store file_ids\n",
    "    file_ids = []\n",
    "\n",
    "    # Iterate through the sites and fetch each URL\n",
    "    for url in urls:\n",
    "        site_content = fetch_site_content(url)\n",
    "        print(site_content)\n",
    "        file_id = create_openai_file(site_content)\n",
    "        # Append the file_id to the list\n",
    "        file_ids.append(file_id)\n",
    "    return file_ids"
   ]
  },
  {
   "cell_type": "code",
   "execution_count": null,
   "metadata": {},
   "outputs": [],
   "source": [
    "# Example usage:\n",
    "url = \"https://www.davidkolbconsultancy.com/pages_sitemap.xml\"  # Replace with the desired website URL\n",
    "response = requests.get(url)"
   ]
  },
  {
   "cell_type": "code",
   "execution_count": null,
   "metadata": {},
   "outputs": [],
   "source": [
    "soup = BeautifulSoup(response.text, \"lxml\")\n",
    "urls = [loc.text for loc in soup.find_all(\"loc\")]\n",
    "print(urls)"
   ]
  },
  {
   "cell_type": "code",
   "execution_count": null,
   "metadata": {},
   "outputs": [],
   "source": [
    "file_ids = full_website_assistant(urls)"
   ]
  },
  {
   "cell_type": "code",
   "execution_count": null,
   "metadata": {},
   "outputs": [],
   "source": [
    "\n",
    "    # Create an assistant using the OpenAI API\n",
    "    assistant = openai.Assistant.create(\n",
    "        instructions=\"You are a website assistant.\",\n",
    "        model=\"gpt-4.0-turbo\",  # Replace with the appropriate model name\n",
    "        tools=[\"retrieval\"],\n",
    "        file_ids=file_ids\n",
    "    )\n",
    "\n",
    "    return assistant"
   ]
  }
 ],
 "metadata": {
  "kernelspec": {
   "display_name": "Python 3",
   "language": "python",
   "name": "python3"
  },
  "language_info": {
   "codemirror_mode": {
    "name": "ipython",
    "version": 3
   },
   "file_extension": ".py",
   "mimetype": "text/x-python",
   "name": "python",
   "nbconvert_exporter": "python",
   "pygments_lexer": "ipython3",
   "version": "3.11.6"
  }
 },
 "nbformat": 4,
 "nbformat_minor": 2
}
